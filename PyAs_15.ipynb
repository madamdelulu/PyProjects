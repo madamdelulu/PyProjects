{
 "cells": [
  {
   "cell_type": "code",
   "execution_count": 18,
   "id": "06dacee7-d29c-46af-8241-cc6253c69305",
   "metadata": {},
   "outputs": [
    {
     "name": "stdout",
     "output_type": "stream",
     "text": [
      "Maximum money gained - 22\n",
      "Recommended cut lengths - [2, 6]\n"
     ]
    }
   ],
   "source": [
    "# Task 1\n",
    "\n",
    "\n",
    "def rod_c(pr, n):\n",
    "    \"\"\"\n",
    "    This function determines the maximum \n",
    "    value obtainable by cutting up the \n",
    "    rod and selling the pieces\n",
    "    \"\"\"\n",
    "    pr_cut = [0] * (n + 1)  # List of zeroes, later a list of money of different cuts\n",
    "    cuts = [[] for i in range(n + 1)] # List of empty lists, later a list of cuts\n",
    "  \n",
    "    for i in range(1, n + 1):\n",
    "        max_val = -1\n",
    "        best_cut = []\n",
    "        for j in range(1, i + 1):\n",
    "            if j <= len(pr):\n",
    "                cur = prices[j - 1] + pr_cut[i - j]\n",
    "                if cur > max_val:\n",
    "                    max_val = cur\n",
    "                    best_cut = [j] + cuts[i - j]\n",
    "        pr_cut[i] = max_val\n",
    "        cuts[i] = best_cut\n",
    "    return pr_cut[n], cuts[n]\n",
    "\n",
    "\n",
    "pr = [1, 5, 8, 9, 10, 17, 17, 20] # Array of Prices\n",
    "n = 8                             # Rod length\n",
    "\n",
    "max_value, cut_list = rod_c(pr, n)\n",
    "print(\"Maximum money gained -\", max_value)\n",
    "print(\"Recommended cut lengths -\", cut_list)\n"
   ]
  }
 ],
 "metadata": {
  "kernelspec": {
   "display_name": "Python 3 (ipykernel)",
   "language": "python",
   "name": "python3"
  },
  "language_info": {
   "codemirror_mode": {
    "name": "ipython",
    "version": 3
   },
   "file_extension": ".py",
   "mimetype": "text/x-python",
   "name": "python",
   "nbconvert_exporter": "python",
   "pygments_lexer": "ipython3",
   "version": "3.12.7"
  }
 },
 "nbformat": 4,
 "nbformat_minor": 5
}
