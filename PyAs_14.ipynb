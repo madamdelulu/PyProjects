{
 "cells": [
  {
   "cell_type": "code",
   "execution_count": 22,
   "id": "175a3a66-026b-443a-9f5e-b73d58053aa5",
   "metadata": {},
   "outputs": [
    {
     "name": "stdout",
     "output_type": "stream",
     "text": [
      "Sorted list - [2, 2, 2, 3, 4, 4, 53, 323, 423, 453]\n"
     ]
    }
   ],
   "source": [
    "# Task 2\n",
    "\n",
    "\"\"\"Bubble sorting a list.\"\"\"\n",
    "\n",
    "\n",
    "def bubble_sort(lst):\n",
    "    \"\"\"\n",
    "    Sort the list - bubble sorting.\n",
    "\n",
    "    This function uses a\n",
    "    bubble sorting method\n",
    "    to sort lists.\n",
    "    \"\"\"\n",
    "    for i in range(len(lst)):\n",
    "        # -i to skip the number that is sorted\n",
    "        # -1 to stay in the range\n",
    "        for k in range(len(lst) - i - 1):\n",
    "            if lst[k] > lst[k + 1]:\n",
    "                lst[k], lst[k + 1] = lst[k + 1], lst[k]\n",
    "    return lst\n",
    "\n",
    "\n",
    "print(\"Sorted list -\", bubble_sort([4, 4, 2, 3, 53, 453, 423, 323, 2, 2]))\n"
   ]
  },
  {
   "cell_type": "code",
   "execution_count": 70,
   "id": "6b302a3b-f473-4078-b0ba-9b90a932f36f",
   "metadata": {},
   "outputs": [
    {
     "name": "stdout",
     "output_type": "stream",
     "text": [
      "Sum of digits - 27\n"
     ]
    }
   ],
   "source": [
    "# Task 3\n",
    "\n",
    "def dig_sum(n):\n",
    "    \"\"\"\n",
    "    This function calculates the sum\n",
    "    of digits in a number\n",
    "    \"\"\"\n",
    "    if n != 0 and n > 0:\n",
    "        return n % 10 + dig_sum(n // 10)\n",
    "    else:\n",
    "        return 0\n",
    "\n",
    "\n",
    "print(\"Sum of digits -\", dig_sum(18972))"
   ]
  },
  {
   "cell_type": "code",
   "execution_count": 14,
   "id": "448bc2be-8b74-4091-8aaf-c22bc6cf59d8",
   "metadata": {},
   "outputs": [
    {
     "name": "stdout",
     "output_type": "stream",
     "text": [
      "Sum of numbers before - 55\n"
     ]
    }
   ],
   "source": [
    "def bf_num_sum(n):\n",
    "    \"\"\"\n",
    "    This function calculates the sum\n",
    "    of numbers before and including \n",
    "    the given one\n",
    "    \"\"\"\n",
    "    if n != 0 and n > 0:\n",
    "        return n + bf_num_sum(n - 1)\n",
    "    else:\n",
    "        return 0\n",
    "\n",
    "\n",
    "print(\"Sum of numbers before -\", bf_num_sum(10))"
   ]
  },
  {
   "cell_type": "code",
   "execution_count": 28,
   "id": "b426148a-4c91-407e-9ab0-0ba2a618c095",
   "metadata": {},
   "outputs": [
    {
     "name": "stdout",
     "output_type": "stream",
     "text": [
      "Fibonacci value - 3\n"
     ]
    }
   ],
   "source": [
    "def fib(n):\n",
    "    \"\"\"\n",
    "    This function calculates the \n",
    "    fibonacci value of specific number\n",
    "    \"\"\"\n",
    "    if n <= 1:\n",
    "        return n\n",
    "    else:\n",
    "        return fib(n - 1)  + fib(n - 2)\n",
    "\n",
    "print(\"Fibonacci value -\", fib(4))\n",
    "print(\"Fibonacci value -\", fib(11))\n",
    "print(\"Fibonacci value -\", fib(7))"
   ]
  }
 ],
 "metadata": {
  "kernelspec": {
   "display_name": "Python 3 (ipykernel)",
   "language": "python",
   "name": "python3"
  },
  "language_info": {
   "codemirror_mode": {
    "name": "ipython",
    "version": 3
   },
   "file_extension": ".py",
   "mimetype": "text/x-python",
   "name": "python",
   "nbconvert_exporter": "python",
   "pygments_lexer": "ipython3",
   "version": "3.12.7"
  }
 },
 "nbformat": 4,
 "nbformat_minor": 5
}
