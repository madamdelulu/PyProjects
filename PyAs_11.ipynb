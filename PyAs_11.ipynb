{
 "cells": [
  {
   "cell_type": "code",
   "execution_count": 56,
   "id": "f45bf911-d6ec-48c6-8311-85450139dce9",
   "metadata": {},
   "outputs": [
    {
     "name": "stdout",
     "output_type": "stream",
     "text": [
      "#1 [43, 532, 3, 4, 32, 61, 23, 43, 1]\n",
      "#2 [0, 42, 43, 54, 2, 4, 56, 5]\n",
      "#3 [34, 4, 6, 4, 7, 34, 4, 45, 4]\n",
      "#4 [1, 54, 54, 56, 77, 5, 5, 3, 3]\n",
      "Smallest two numbers in list #4 - [1, 3]\n",
      "Smallest two numbers in list #2 - [0, 2]\n"
     ]
    }
   ],
   "source": [
    "# Task_1\n",
    "\n",
    "# Importing\n",
    "import small_est_pack as sp\n",
    "\n",
    "# Executing the code\n",
    "print(\"#1\", sp.m_lists.l_1)\n",
    "print(\"#2\", sp.m_lists.l_2)\n",
    "print(\"#3\", sp.m_lists.l_3)\n",
    "print(\"#4\", sp.m_lists.l_4)\n",
    "\n",
    "print(\"Smallest two numbers in list #4 -\", sp.two_smallest.find_two_smallest(sp.m_lists.l_4))\n",
    "print(\"Smallest two numbers in list #2 -\", sp.two_smallest.find_two_smallest(sp.m_lists.l_2))"
   ]
  },
  {
   "cell_type": "code",
   "execution_count": 20,
   "id": "52af9814-94a7-4b31-95f1-73062611348e",
   "metadata": {},
   "outputs": [
    {
     "name": "stdout",
     "output_type": "stream",
     "text": [
      "Current working directory - /home/jovyan/PyProjects/Unix_projects\n",
      "List files and folders: ['fileD.txt', '.git', '.ipynb_checkpoints', 'fileB.txt', 'result.txt', 'Task_1.py', 'Address.py', 'ttest.txt', 'test_folder1', 'fileC.txt', 'small_est_pack', 'fileE.txt', 'Mean_calc.py', 'Python.ipynb', 'PyAs_11.ipynb', 'PythonScripts', 'Int_check.py']\n",
      "Check existence of 'Address.py' - True\n",
      "Hello World!\n"
     ]
    }
   ],
   "source": [
    "# Task 2\n",
    "\n",
    "# os\n",
    "import os\n",
    " \n",
    "print(\"Current working directory -\", os.getcwd())\n",
    "print(\"List files and folders:\", os.listdir())\n",
    "\n",
    "# Make and remove directories\n",
    "os.mkdir(\"test_folder\")\n",
    "os.rmdir(\"test_folder1\")\n",
    " \n",
    "print(\"Check existence of 'Address.py' -\", os.path.exists(\"Address.py\"))\n",
    "\n",
    "# Run a shell command\n",
    "os.system(\"echo Hello World!\")\n",
    "\n",
    "# Rename and remove files\n",
    "os.rename(\"result.txt\", \"res.txt\")\n",
    "os.remove(\"ttest.txt\")"
   ]
  },
  {
   "cell_type": "code",
   "execution_count": 37,
   "id": "c972ca55-9700-467f-92c9-5b933c532433",
   "metadata": {},
   "outputs": [
    {
     "name": "stdout",
     "output_type": "stream",
     "text": [
      "\n",
      "Command-line arguments: ['/opt/conda/lib/python3.12/site-packages/ipykernel_launcher.py', '-f', '/home/jovyan/.local/share/jupyter/runtime/kernel-8dae3eb1-255d-43a6-b471-4c148a2f9f20.json']\n",
      "\n",
      "Version of Python - 3.12.7 | packaged by conda-forge | (main, Oct  4 2024, 16:05:46) [GCC 13.3.0]\n",
      "\n",
      "Where Python seravhes for modules: ['/opt/conda/lib/python312.zip', '/opt/conda/lib/python3.12', '/opt/conda/lib/python3.12/lib-dynload', '', '/opt/conda/lib/python3.12/site-packages']\n",
      "\n",
      "Platform information: linux\n"
     ]
    },
    {
     "ename": "SystemExit",
     "evalue": "Stopping script",
     "output_type": "error",
     "traceback": [
      "An exception has occurred, use %tb to see the full traceback.\n",
      "\u001b[0;31mSystemExit\u001b[0m\u001b[0;31m:\u001b[0m Stopping script\n"
     ]
    }
   ],
   "source": [
    "# sys\n",
    "\n",
    "import sys\n",
    "\n",
    "print(\"\\nCommand-line arguments:\", sys.argv)\n",
    "print(\"\\nVersion of Python -\", sys.version)\n",
    "print(\"\\nWhere Python seravhes for modules:\", sys.path)\n",
    "print(\"\\nPlatform information:\", sys.platform)\n",
    "\n",
    "# Exit program\n",
    "sys.exit(\"Stopping script\")\n",
    "\n",
    "print(\"Hello\")"
   ]
  },
  {
   "cell_type": "code",
   "execution_count": 38,
   "id": "d5edfc03-5352-4121-8083-dd638c63f350",
   "metadata": {},
   "outputs": [],
   "source": [
    "# shutil\n",
    "\n",
    "import shutil\n",
    "\n",
    "# Copy a file\n",
    "shutil.copy(\"res.txt\", \"res_copy.txt\")\n",
    "\n",
    "# Copy entire directory\n",
    "shutil.copytree(\"test_folder\", \"test_folder_n\")\n",
    "shutil.copytree(\"test_folder\", \"test_folder_n1\")\n",
    "\n",
    "# Move a file or folder\n",
    "shutil.move(\"fileE.txt\", \"test_folder\")\n",
    "\n",
    "# Remove a directory tree\n",
    "shutil.rmtree(\"test_folder_n\")\n"
   ]
  },
  {
   "cell_type": "code",
   "execution_count": 55,
   "id": "0845fd98-5a40-4a94-832a-5e9d643515f1",
   "metadata": {},
   "outputs": [
    {
     "name": "stdout",
     "output_type": "stream",
     "text": [
      "Current time since epoch - 1760624513.1353664\n",
      "Current local time - Thu Oct 16 14:21:53 2025\n",
      "\n",
      "Waiting 5 seconds...\n",
      "\n",
      "Struck time from seconds - time.struct_time(tm_year=2025, tm_mon=10, tm_mday=16, tm_hour=14, tm_min=21, tm_sec=58, tm_wday=3, tm_yday=289, tm_isdst=0)\n",
      "Time in any format - 2025/10/16 14:21:58\n",
      "Struc time to str - Thu Oct 16 14:21:58 2025\n",
      "Struck time to seconds from epoch - 1760624518.0\n"
     ]
    }
   ],
   "source": [
    "# time\n",
    "\n",
    "import time\n",
    "\n",
    "print(\"Current time since epoch -\", time.time())\n",
    "print(\"Current local time -\", time.ctime())\n",
    "\n",
    "# Pausing executiong\n",
    "print(\"\\nWaiting 5 seconds...\\n\")\n",
    "time.sleep(5)\n",
    "\n",
    "s = time.time()\n",
    "print(\"Struck time from seconds -\", time.gmtime(s))\n",
    "\n",
    "t = time.localtime()\n",
    "print(\"Time in any format -\", time.strftime(\"%Y/%m/%d %H:%M:%S\", t))\n",
    "print(\"Struc time to str -\", time.asctime(t))\n",
    "print(\"Struck time to seconds from epoch -\", time.mktime(t))"
   ]
  }
 ],
 "metadata": {
  "kernelspec": {
   "display_name": "Python 3 (ipykernel)",
   "language": "python",
   "name": "python3"
  },
  "language_info": {
   "codemirror_mode": {
    "name": "ipython",
    "version": 3
   },
   "file_extension": ".py",
   "mimetype": "text/x-python",
   "name": "python",
   "nbconvert_exporter": "python",
   "pygments_lexer": "ipython3",
   "version": "3.12.7"
  }
 },
 "nbformat": 4,
 "nbformat_minor": 5
}
