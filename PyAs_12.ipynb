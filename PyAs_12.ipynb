{
 "cells": [
  {
   "cell_type": "code",
   "execution_count": 16,
   "id": "32d3c09c-4b56-4ce7-874b-1feb811841f3",
   "metadata": {},
   "outputs": [
    {
     "name": "stdout",
     "output_type": "stream",
     "text": [
      "The number of links to 'PNG' files on the site - 28\n"
     ]
    }
   ],
   "source": [
    "# Task 1\n",
    "\n",
    "import requests as rs\n",
    "\n",
    "r = rs.get(\"https://gsom.spbu.ru/en/\")\n",
    "\n",
    "if r.status_code == 200:\n",
    "    print(\"The number of links to 'PNG' files on the site -\" ,str(r.content).count('.png'))\n",
    "elif r.status_code == 400:\n",
    "    print(\"Error. Page not found\")    \n",
    "    \n",
    "    "
   ]
  },
  {
   "cell_type": "code",
   "execution_count": 71,
   "id": "1f12db73-f89f-4ea1-85c2-3e868747753a",
   "metadata": {},
   "outputs": [
    {
     "data": {
      "text/plain": [
       "28109"
      ]
     },
     "execution_count": 71,
     "metadata": {},
     "output_type": "execute_result"
    }
   ],
   "source": [
    "# Finding the index of the right border\n",
    "a1 = str(r.content).find('.png')\n",
    "\n",
    "# Finding the index of the left borfer\n",
    "a2 = str(r.content)[:a1].rfind('\"')\n",
    "\n",
    "# Creating a substring of the image link including the \"png\" and excluding the '\"' at the left border\n",
    "sub = str(r.content)[a2+1:a1+4]\n",
    "\n",
    "# Full link\n",
    "lnk = \"https://gsom.spbu.ru\" + sub\n",
    "img = rs.get(lnk)\n",
    "file = open('/home/jovyan/PyProjects/Unix_projects/logo.png', 'wb')\n",
    "file.write(img.content)"
   ]
  },
  {
   "cell_type": "code",
   "execution_count": 32,
   "id": "f11105d6-637b-4af6-8aaa-fe763d17e06c",
   "metadata": {},
   "outputs": [
    {
     "name": "stdout",
     "output_type": "stream",
     "text": [
      "Incomes before tax\n",
      " [[20 23 34 41 35 26 47 18 29 30]\n",
      " [12 15 38 25 37 24 36 24 17 21]\n",
      " [64 63 82 71 83 63 79 83 77 71]]\n",
      "Income after tax\n",
      " [[14.  16.1 23.8 28.7 24.5 18.2 32.9 12.6 20.3 21. ]\n",
      " [ 8.4 10.5 26.6 17.5 25.9 16.8 25.2 16.8 11.9 14.7]\n",
      " [44.8 44.1 57.4 49.7 58.1 44.1 55.3 58.1 53.9 49.7]]\n",
      "Income with adjusted tax\n",
      " [[14.  16.1 23.8 28.7 21.  15.6 28.2 12.6 20.3 21. ]\n",
      " [ 8.4 10.5 26.6 17.5 22.2 14.4 21.6 16.8 11.9 14.7]\n",
      " [44.8 44.1 57.4 49.7 49.8 37.8 47.4 58.1 53.9 49.7]]\n",
      "Second quarter income\n",
      " [[28.7 21.  15.6]\n",
      " [17.5 22.2 14.4]\n",
      " [49.7 49.8 37.8]]\n"
     ]
    }
   ],
   "source": [
    "# Task 2\n",
    "\n",
    "import numpy as np\n",
    "\n",
    "# Income of 3 depertments each month over a 10-month period\n",
    "no_tax = np.array([[20, 23, 34, 41, 35, 26, 47, 18, 29, 30],\n",
    "              [12, 15, 38, 25, 37, 24, 36, 24, 17, 21],\n",
    "              [64, 63, 82, 71, 83, 63, 79, 83, 77, 71]])\n",
    "print(\"Incomes before tax\\n\", no_tax)\n",
    "\n",
    "# 30% Tax\n",
    "w_tax = no_tax - (no_tax * 0.3)\n",
    "print(\"Income after tax\\n\", w_tax)\n",
    "\n",
    "# Adjusted Tax\n",
    "a = np.array([0.7, 0.7, 0.7, 0.7, 0.6, 0.6, 0.6, 0.7, 0.7, 0.7]) \n",
    "adj_tax = no_tax * a\n",
    "print(\"Income with adjusted tax\\n\", adj_tax)\n",
    "\n",
    "# Second Quarter\n",
    "q_2 = adj_tax[:, 3:6]\n",
    "print(\"Second quarter income\\n\", q_2)"
   ]
  },
  {
   "cell_type": "code",
   "execution_count": null,
   "id": "c255e1cf-5267-42ac-b390-894a8a62ac5c",
   "metadata": {},
   "outputs": [],
   "source": []
  }
 ],
 "metadata": {
  "kernelspec": {
   "display_name": "Python 3 (ipykernel)",
   "language": "python",
   "name": "python3"
  },
  "language_info": {
   "codemirror_mode": {
    "name": "ipython",
    "version": 3
   },
   "file_extension": ".py",
   "mimetype": "text/x-python",
   "name": "python",
   "nbconvert_exporter": "python",
   "pygments_lexer": "ipython3",
   "version": "3.12.7"
  }
 },
 "nbformat": 4,
 "nbformat_minor": 5
}
